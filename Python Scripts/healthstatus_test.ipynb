{
 "cells": [
  {
   "cell_type": "code",
   "execution_count": 557,
   "metadata": {},
   "outputs": [],
   "source": [
    "import random\n",
    "import numpy\n",
    "import csv\n",
    "import pandas as pd"
   ]
  },
  {
   "cell_type": "markdown",
   "metadata": {},
   "source": [
    "## Generating dataset"
   ]
  },
  {
   "cell_type": "code",
   "execution_count": 558,
   "metadata": {},
   "outputs": [],
   "source": [
    "pulseList = [random.randrange(30,200) for i in range(100000)]"
   ]
  },
  {
   "cell_type": "code",
   "execution_count": 559,
   "metadata": {},
   "outputs": [],
   "source": [
    "tempList = [round(numpy.random.uniform(36.0, 40.0),1) for i in range(100000)]"
   ]
  },
  {
   "cell_type": "code",
   "execution_count": 560,
   "metadata": {},
   "outputs": [],
   "source": [
    "oxiList = [random.randrange(92,100) for i in range(100000)]"
   ]
  },
  {
   "cell_type": "code",
   "execution_count": 561,
   "metadata": {},
   "outputs": [],
   "source": [
    "# statusList = [\"\" for i in range(2000)]\n",
    "statusNumList = [0 for i in range(100000)]"
   ]
  },
  {
   "cell_type": "code",
   "execution_count": 562,
   "metadata": {},
   "outputs": [],
   "source": [
    "measure = pd.DataFrame(list(zip(tempList, pulseList, oxiList, statusNumList)))\n",
    "measure.columns =['BodyTemp','HeartRate','Oxi', 'HealthStatusCode']\n"
   ]
  },
  {
   "cell_type": "code",
   "execution_count": 563,
   "metadata": {},
   "outputs": [
    {
     "data": {
      "text/html": [
       "<div>\n",
       "<style scoped>\n",
       "    .dataframe tbody tr th:only-of-type {\n",
       "        vertical-align: middle;\n",
       "    }\n",
       "\n",
       "    .dataframe tbody tr th {\n",
       "        vertical-align: top;\n",
       "    }\n",
       "\n",
       "    .dataframe thead th {\n",
       "        text-align: right;\n",
       "    }\n",
       "</style>\n",
       "<table border=\"1\" class=\"dataframe\">\n",
       "  <thead>\n",
       "    <tr style=\"text-align: right;\">\n",
       "      <th></th>\n",
       "      <th>BodyTemp</th>\n",
       "      <th>HeartRate</th>\n",
       "      <th>Oxi</th>\n",
       "      <th>HealthStatusCode</th>\n",
       "    </tr>\n",
       "  </thead>\n",
       "  <tbody>\n",
       "    <tr>\n",
       "      <th>0</th>\n",
       "      <td>38.8</td>\n",
       "      <td>68</td>\n",
       "      <td>94</td>\n",
       "      <td>0</td>\n",
       "    </tr>\n",
       "    <tr>\n",
       "      <th>1</th>\n",
       "      <td>37.1</td>\n",
       "      <td>170</td>\n",
       "      <td>96</td>\n",
       "      <td>0</td>\n",
       "    </tr>\n",
       "    <tr>\n",
       "      <th>2</th>\n",
       "      <td>36.6</td>\n",
       "      <td>111</td>\n",
       "      <td>94</td>\n",
       "      <td>0</td>\n",
       "    </tr>\n",
       "    <tr>\n",
       "      <th>3</th>\n",
       "      <td>39.2</td>\n",
       "      <td>81</td>\n",
       "      <td>95</td>\n",
       "      <td>0</td>\n",
       "    </tr>\n",
       "    <tr>\n",
       "      <th>4</th>\n",
       "      <td>36.8</td>\n",
       "      <td>183</td>\n",
       "      <td>93</td>\n",
       "      <td>0</td>\n",
       "    </tr>\n",
       "    <tr>\n",
       "      <th>...</th>\n",
       "      <td>...</td>\n",
       "      <td>...</td>\n",
       "      <td>...</td>\n",
       "      <td>...</td>\n",
       "    </tr>\n",
       "    <tr>\n",
       "      <th>99995</th>\n",
       "      <td>37.7</td>\n",
       "      <td>174</td>\n",
       "      <td>92</td>\n",
       "      <td>0</td>\n",
       "    </tr>\n",
       "    <tr>\n",
       "      <th>99996</th>\n",
       "      <td>38.1</td>\n",
       "      <td>176</td>\n",
       "      <td>94</td>\n",
       "      <td>0</td>\n",
       "    </tr>\n",
       "    <tr>\n",
       "      <th>99997</th>\n",
       "      <td>37.9</td>\n",
       "      <td>83</td>\n",
       "      <td>95</td>\n",
       "      <td>0</td>\n",
       "    </tr>\n",
       "    <tr>\n",
       "      <th>99998</th>\n",
       "      <td>36.6</td>\n",
       "      <td>97</td>\n",
       "      <td>93</td>\n",
       "      <td>0</td>\n",
       "    </tr>\n",
       "    <tr>\n",
       "      <th>99999</th>\n",
       "      <td>39.2</td>\n",
       "      <td>31</td>\n",
       "      <td>97</td>\n",
       "      <td>0</td>\n",
       "    </tr>\n",
       "  </tbody>\n",
       "</table>\n",
       "<p>100000 rows × 4 columns</p>\n",
       "</div>"
      ],
      "text/plain": [
       "       BodyTemp  HeartRate  Oxi  HealthStatusCode\n",
       "0          38.8         68   94                 0\n",
       "1          37.1        170   96                 0\n",
       "2          36.6        111   94                 0\n",
       "3          39.2         81   95                 0\n",
       "4          36.8        183   93                 0\n",
       "...         ...        ...  ...               ...\n",
       "99995      37.7        174   92                 0\n",
       "99996      38.1        176   94                 0\n",
       "99997      37.9         83   95                 0\n",
       "99998      36.6         97   93                 0\n",
       "99999      39.2         31   97                 0\n",
       "\n",
       "[100000 rows x 4 columns]"
      ]
     },
     "execution_count": 563,
     "metadata": {},
     "output_type": "execute_result"
    }
   ],
   "source": [
    "measure"
   ]
  },
  {
   "cell_type": "markdown",
   "metadata": {},
   "source": [
    "## Data labelling"
   ]
  },
  {
   "cell_type": "code",
   "execution_count": 564,
   "metadata": {},
   "outputs": [],
   "source": [
    "for i in range (len(measure)):\n",
    "    if (measure.loc[i,'BodyTemp']>38.0) | (measure.loc[i, 'HeartRate']<50) | (measure.loc[i, 'HeartRate']>100) | (measure.loc[i, 'Oxi']<95):\n",
    "        # measure.loc[i, 'HealthStatus']=\"Unhealthy\"\n",
    "        measure.loc[i, 'HealthStatusCode']=1\n",
    "\n",
    "    else: \n",
    "        # measure.loc[i, 'HealthStatus']=\"Healthy\"\n",
    "        measure.loc[i, 'HealthStatusCode']=0\n"
   ]
  },
  {
   "cell_type": "code",
   "execution_count": 565,
   "metadata": {},
   "outputs": [
    {
     "data": {
      "text/html": [
       "<div>\n",
       "<style scoped>\n",
       "    .dataframe tbody tr th:only-of-type {\n",
       "        vertical-align: middle;\n",
       "    }\n",
       "\n",
       "    .dataframe tbody tr th {\n",
       "        vertical-align: top;\n",
       "    }\n",
       "\n",
       "    .dataframe thead th {\n",
       "        text-align: right;\n",
       "    }\n",
       "</style>\n",
       "<table border=\"1\" class=\"dataframe\">\n",
       "  <thead>\n",
       "    <tr style=\"text-align: right;\">\n",
       "      <th></th>\n",
       "      <th>BodyTemp</th>\n",
       "      <th>HeartRate</th>\n",
       "      <th>Oxi</th>\n",
       "      <th>HealthStatusCode</th>\n",
       "    </tr>\n",
       "  </thead>\n",
       "  <tbody>\n",
       "    <tr>\n",
       "      <th>0</th>\n",
       "      <td>38.8</td>\n",
       "      <td>68</td>\n",
       "      <td>94</td>\n",
       "      <td>1</td>\n",
       "    </tr>\n",
       "    <tr>\n",
       "      <th>1</th>\n",
       "      <td>37.1</td>\n",
       "      <td>170</td>\n",
       "      <td>96</td>\n",
       "      <td>1</td>\n",
       "    </tr>\n",
       "    <tr>\n",
       "      <th>2</th>\n",
       "      <td>36.6</td>\n",
       "      <td>111</td>\n",
       "      <td>94</td>\n",
       "      <td>1</td>\n",
       "    </tr>\n",
       "    <tr>\n",
       "      <th>3</th>\n",
       "      <td>39.2</td>\n",
       "      <td>81</td>\n",
       "      <td>95</td>\n",
       "      <td>1</td>\n",
       "    </tr>\n",
       "    <tr>\n",
       "      <th>4</th>\n",
       "      <td>36.8</td>\n",
       "      <td>183</td>\n",
       "      <td>93</td>\n",
       "      <td>1</td>\n",
       "    </tr>\n",
       "    <tr>\n",
       "      <th>...</th>\n",
       "      <td>...</td>\n",
       "      <td>...</td>\n",
       "      <td>...</td>\n",
       "      <td>...</td>\n",
       "    </tr>\n",
       "    <tr>\n",
       "      <th>99995</th>\n",
       "      <td>37.7</td>\n",
       "      <td>174</td>\n",
       "      <td>92</td>\n",
       "      <td>1</td>\n",
       "    </tr>\n",
       "    <tr>\n",
       "      <th>99996</th>\n",
       "      <td>38.1</td>\n",
       "      <td>176</td>\n",
       "      <td>94</td>\n",
       "      <td>1</td>\n",
       "    </tr>\n",
       "    <tr>\n",
       "      <th>99997</th>\n",
       "      <td>37.9</td>\n",
       "      <td>83</td>\n",
       "      <td>95</td>\n",
       "      <td>0</td>\n",
       "    </tr>\n",
       "    <tr>\n",
       "      <th>99998</th>\n",
       "      <td>36.6</td>\n",
       "      <td>97</td>\n",
       "      <td>93</td>\n",
       "      <td>1</td>\n",
       "    </tr>\n",
       "    <tr>\n",
       "      <th>99999</th>\n",
       "      <td>39.2</td>\n",
       "      <td>31</td>\n",
       "      <td>97</td>\n",
       "      <td>1</td>\n",
       "    </tr>\n",
       "  </tbody>\n",
       "</table>\n",
       "<p>100000 rows × 4 columns</p>\n",
       "</div>"
      ],
      "text/plain": [
       "       BodyTemp  HeartRate  Oxi  HealthStatusCode\n",
       "0          38.8         68   94                 1\n",
       "1          37.1        170   96                 1\n",
       "2          36.6        111   94                 1\n",
       "3          39.2         81   95                 1\n",
       "4          36.8        183   93                 1\n",
       "...         ...        ...  ...               ...\n",
       "99995      37.7        174   92                 1\n",
       "99996      38.1        176   94                 1\n",
       "99997      37.9         83   95                 0\n",
       "99998      36.6         97   93                 1\n",
       "99999      39.2         31   97                 1\n",
       "\n",
       "[100000 rows x 4 columns]"
      ]
     },
     "execution_count": 565,
     "metadata": {},
     "output_type": "execute_result"
    }
   ],
   "source": [
    "measure"
   ]
  },
  {
   "cell_type": "code",
   "execution_count": 566,
   "metadata": {},
   "outputs": [
    {
     "data": {
      "text/plain": [
       "array([1, 1, 1, ..., 0, 1, 1])"
      ]
     },
     "execution_count": 566,
     "metadata": {},
     "output_type": "execute_result"
    }
   ],
   "source": [
    "measure['HealthStatusCode'].values"
   ]
  },
  {
   "cell_type": "code",
   "execution_count": 567,
   "metadata": {},
   "outputs": [],
   "source": [
    "measure.to_csv('data.csv')"
   ]
  },
  {
   "cell_type": "markdown",
   "metadata": {},
   "source": [
    "## Data Exploration"
   ]
  },
  {
   "cell_type": "code",
   "execution_count": 568,
   "metadata": {},
   "outputs": [],
   "source": [
    "from sklearn import preprocessing\n",
    "import matplotlib.pyplot as plt \n",
    "plt.rc(\"font\", size=14)\n",
    "from sklearn.model_selection import train_test_split\n",
    "import seaborn as sns\n",
    "sns.set(style=\"white\")\n",
    "sns.set(style=\"whitegrid\", color_codes=True)"
   ]
  },
  {
   "cell_type": "code",
   "execution_count": 569,
   "metadata": {},
   "outputs": [
    {
     "data": {
      "text/plain": [
       "array([1, 0])"
      ]
     },
     "execution_count": 569,
     "metadata": {},
     "output_type": "execute_result"
    }
   ],
   "source": [
    "measure['HealthStatusCode'].unique()"
   ]
  },
  {
   "cell_type": "code",
   "execution_count": 570,
   "metadata": {},
   "outputs": [
    {
     "data": {
      "text/plain": [
       "1    90528\n",
       "0     9472\n",
       "Name: HealthStatusCode, dtype: int64"
      ]
     },
     "execution_count": 570,
     "metadata": {},
     "output_type": "execute_result"
    }
   ],
   "source": [
    "measure['HealthStatusCode'].value_counts()"
   ]
  },
  {
   "cell_type": "code",
   "execution_count": 571,
   "metadata": {},
   "outputs": [
    {
     "data": {
      "image/png": "[encoded data removed]",
      "text/plain": [
       "<Figure size 432x288 with 1 Axes>"
      ]
     },
     "metadata": {},
     "output_type": "display_data"
    },
    {
     "data": {
      "text/plain": [
       "<Figure size 432x288 with 0 Axes>"
      ]
     },
     "metadata": {},
     "output_type": "display_data"
    }
   ],
   "source": [
    "sns.countplot(x='HealthStatusCode',data=measure,palette='hls')\n",
    "plt.show()\n",
    "plt.savefig('count_plot')"
   ]
  },
  {
   "cell_type": "markdown",
   "metadata": {},
   "source": [
    " Data is unbalanced"
   ]
  },
  {
   "cell_type": "code",
   "execution_count": 575,
   "metadata": {},
   "outputs": [],
   "source": [
    "from sklearn.utils import resample\n",
    "#create two different dataframe of majority and minority class \n",
    "df_majority = measure[(measure['HealthStatusCode']==1)] \n",
    "df_minority = measure[(measure['HealthStatusCode']==0)] \n",
    "# upsample minority class\n",
    "df_minority_upsampled = resample(df_minority, \n",
    "                                 replace=True,    # sample with replacement\n",
    "                                 n_samples= 90528, # to match majority class\n",
    "                                 random_state=42)  # reproducible results\n",
    "# Combine majority class with upsampled minority class\n",
    "df_upsampled = pd.concat([df_minority_upsampled, df_majority])"
   ]
  },
  {
   "cell_type": "code",
   "execution_count": 576,
   "metadata": {},
   "outputs": [
    {
     "data": {
      "text/plain": [
       "0    90528\n",
       "1    90528\n",
       "Name: HealthStatusCode, dtype: int64"
      ]
     },
     "execution_count": 576,
     "metadata": {},
     "output_type": "execute_result"
    }
   ],
   "source": [
    "df_upsampled['HealthStatusCode'].value_counts()"
   ]
  },
  {
   "cell_type": "code",
   "execution_count": 577,
   "metadata": {},
   "outputs": [
    {
     "name": "stderr",
     "output_type": "stream",
     "text": [
      "/Users/suparnasr/opt/anaconda3/lib/python3.8/site-packages/seaborn/_decorators.py:36: FutureWarning: Pass the following variable as a keyword arg: x. From version 0.12, the only valid positional argument will be `data`, and passing other arguments without an explicit keyword will result in an error or misinterpretation.\n",
      "  warnings.warn(\n"
     ]
    },
    {
     "data": {
      "text/plain": [
       "<AxesSubplot:xlabel='HealthStatusCode', ylabel='count'>"
      ]
     },
     "execution_count": 577,
     "metadata": {},
     "output_type": "execute_result"
    },
    {
     "data": {
      "image/png": "[encoded data removed]",
      "text/plain": [
       "<Figure size 432x288 with 1 Axes>"
      ]
     },
     "metadata": {},
     "output_type": "display_data"
    }
   ],
   "source": [
    "sns.countplot(df_upsampled['HealthStatusCode'])\n"
   ]
  },
  {
   "cell_type": "code",
   "execution_count": 578,
   "metadata": {},
   "outputs": [],
   "source": [
    "df_upsampled.to_csv('upsampled_data.csv')"
   ]
  },
  {
   "cell_type": "code",
   "execution_count": null,
   "metadata": {},
   "outputs": [],
   "source": [
    "# ct=pd.crosstab(measure['BodyTemp'],measure['HealthStatusCode']).plot(kind='bar')\n",
    "# ct.plot(figsize=(20, 10))\n",
    "\n",
    "# plt.title('Purchase Frequency for Job Title')\n",
    "# plt.xlabel('Job')\n",
    "# plt.ylabel('Frequency of Purchase')\n",
    "# plt.savefig('purchase_fre_job')"
   ]
  },
  {
   "cell_type": "markdown",
   "metadata": {},
   "source": [
    "## Training"
   ]
  },
  {
   "cell_type": "code",
   "execution_count": 579,
   "metadata": {},
   "outputs": [],
   "source": [
    "X = df_upsampled[['BodyTemp', 'HeartRate','Oxi']]\n",
    "y = df_upsampled.HealthStatusCode"
   ]
  },
  {
   "cell_type": "code",
   "execution_count": 580,
   "metadata": {},
   "outputs": [
    {
     "name": "stdout",
     "output_type": "stream",
     "text": [
      "(126739, 3) (126739,)\n",
      "(54317, 3) (54317,)\n"
     ]
    }
   ],
   "source": [
    "# create training and testing vars\n",
    "X_train, X_test, y_train, y_test = train_test_split(X, y, test_size=0.3)\n",
    "print (X_train.shape, y_train.shape)\n",
    "print (X_test.shape, y_test.shape)"
   ]
  },
  {
   "cell_type": "markdown",
   "metadata": {},
   "source": [
    "## Logistic Regression"
   ]
  },
  {
   "cell_type": "code",
   "execution_count": 581,
   "metadata": {},
   "outputs": [],
   "source": [
    "from sklearn.linear_model import LogisticRegression\n",
    "from sklearn import metrics\n",
    "from sklearn.model_selection import GridSearchCV, StratifiedKFold, train_test_split\n",
    "from sklearn.metrics import accuracy_score, precision_score, recall_score, f1_score, confusion_matrix, classification_report\n",
    "from mlxtend.plotting import plot_confusion_matrix\n",
    "from sklearn.pipeline import make_pipeline, Pipeline\n",
    "from sklearn.model_selection import GridSearchCV\n",
    "\n",
    "from sklearn.tree import DecisionTreeClassifier\n",
    "from sklearn.naive_bayes import MultinomialNB"
   ]
  },
  {
   "cell_type": "code",
   "execution_count": 582,
   "metadata": {},
   "outputs": [
    {
     "name": "stdout",
     "output_type": "stream",
     "text": [
      "Fitting 5 folds for each of 6 candidates, totalling 30 fits\n",
      "Best cross-validation score: 0.86\n",
      "Best parameters:\n",
      "{'logisticregression__C': 0.001}\n"
     ]
    }
   ],
   "source": [
    "pipe = make_pipeline(LogisticRegression(max_iter=1000))\n",
    "param_grid = {'logisticregression__C': [0.001,0.01,0.1,1,10,100]}\n",
    "\n",
    "LR = GridSearchCV(pipe, param_grid, cv=5, n_jobs=-1, verbose=2)\n",
    "LR.fit(X_train, y_train)\n",
    "print(\"Best cross-validation score: {:.2f}\".format(LR.best_score_))\n",
    "print(\"Best parameters:\\n{}\".format(LR.best_params_))"
   ]
  },
  {
   "cell_type": "code",
   "execution_count": 583,
   "metadata": {},
   "outputs": [
    {
     "name": "stdout",
     "output_type": "stream",
     "text": [
      "0.8618664506508091\n"
     ]
    }
   ],
   "source": [
    "y_pred = LR.predict(X_test)\n",
    "print(accuracy_score(y_test, y_pred))"
   ]
  },
  {
   "cell_type": "markdown",
   "metadata": {},
   "source": [
    "## Pickling"
   ]
  },
  {
   "cell_type": "code",
   "execution_count": 584,
   "metadata": {},
   "outputs": [],
   "source": [
    "import pickle \n",
    "pickle.dump(LR,open('LR_model.pkl','wb'))"
   ]
  },
  {
   "cell_type": "code",
   "execution_count": 585,
   "metadata": {},
   "outputs": [
    {
     "name": "stdout",
     "output_type": "stream",
     "text": [
      "Accuracy:  0.8618664506508091\n",
      "Precision:  0.8633561746152392\n",
      "Recall:  0.8618664506508091\n",
      "F1 Score:  0.8617058326970134\n"
     ]
    }
   ],
   "source": [
    "#Testing data\n",
    "lr_test_accuracy_score= accuracy_score(y_test, LR.predict(X_test))\n",
    "lr_test_precision_score= precision_score(y_test, LR.predict(X_test),average='weighted')\n",
    "lr_test_recall_score= recall_score(y_test, LR.predict(X_test),average='weighted')\n",
    "lr_test_f1_score= f1_score(y_test, LR.predict(X_test),average='weighted')\n",
    "\n",
    "print(\"Accuracy: \",lr_test_accuracy_score)\n",
    "print(\"Precision: \",lr_test_precision_score)\n",
    "print(\"Recall: \",lr_test_recall_score)\n",
    "print(\"F1 Score: \",lr_test_f1_score)"
   ]
  },
  {
   "cell_type": "code",
   "execution_count": null,
   "metadata": {},
   "outputs": [],
   "source": [
    "#testing\n",
    "conf = confusion_matrix(y_test, LR.predict(X_test))\n",
    "fig, ax = plot_confusion_matrix(conf_mat=conf, figsize=(12, 12), cmap=plt.cm.Purples, colorbar=True)\n",
    "plt.xlabel('Predictions', fontsize=18)\n",
    "plt.ylabel('Actuals', fontsize=18)\n",
    "plt.title('Confusion Matrix', fontsize=18)\n",
    "plt.show()"
   ]
  },
  {
   "cell_type": "markdown",
   "metadata": {},
   "source": [
    "### Decision Tree Classifier"
   ]
  },
  {
   "cell_type": "code",
   "execution_count": 586,
   "metadata": {},
   "outputs": [
    {
     "name": "stdout",
     "output_type": "stream",
     "text": [
      "Fitting 5 folds for each of 125 candidates, totalling 625 fits\n",
      "Best cross-validation score: 1.00\n",
      "Best parameters:\n",
      "{'classifier__max_depth': 6, 'classifier__min_impurity_decrease': 0.001, 'classifier__min_samples_leaf': 1}\n"
     ]
    }
   ],
   "source": [
    "\n",
    "dt_pipe= Pipeline([('classifier', DecisionTreeClassifier())])\n",
    "# Hyperparameters to tweak and find the optimum for GridSearchCV\n",
    "maxDepth = [3,6,12,17,20]\n",
    "minSamplesLeaf = [1,2,3,4,5]\n",
    "minImpuritySplit = [0.001,0.003,0.006,0.008,0.01]\n",
    "params = {\n",
    "    'classifier__max_depth': maxDepth,\n",
    "    'classifier__min_samples_leaf': minSamplesLeaf,\n",
    "    'classifier__min_impurity_decrease': minImpuritySplit\n",
    "}\n",
    "\n",
    "\n",
    "# Initializing the GridSearchCV\n",
    "dt_grid = GridSearchCV(dt_pipe, param_grid = params, cv=5, return_train_score=True, n_jobs = -1, verbose = 2)\n",
    "\n",
    "# Fit the Grid Search to the provided data\n",
    "dt_grid.fit(X_train, y_train)\n",
    "\n",
    "print(\"Best cross-validation score: {:.2f}\".format(dt_grid.best_score_))\n",
    "print(\"Best parameters:\\n{}\".format(dt_grid.best_params_))"
   ]
  },
  {
   "cell_type": "code",
   "execution_count": 587,
   "metadata": {},
   "outputs": [
    {
     "data": {
      "text/plain": [
       "1.0"
      ]
     },
     "execution_count": 587,
     "metadata": {},
     "output_type": "execute_result"
    }
   ],
   "source": [
    "dt_grid.best_score_"
   ]
  },
  {
   "cell_type": "code",
   "execution_count": 588,
   "metadata": {},
   "outputs": [
    {
     "data": {
      "text/plain": [
       "1.0"
      ]
     },
     "execution_count": 588,
     "metadata": {},
     "output_type": "execute_result"
    }
   ],
   "source": [
    "dt_grid.score(X_train, y_train)"
   ]
  },
  {
   "cell_type": "code",
   "execution_count": 589,
   "metadata": {},
   "outputs": [
    {
     "data": {
      "text/plain": [
       "1.0"
      ]
     },
     "execution_count": 589,
     "metadata": {},
     "output_type": "execute_result"
    }
   ],
   "source": [
    "dt_grid.score(X_test, y_test)"
   ]
  },
  {
   "cell_type": "code",
   "execution_count": 590,
   "metadata": {},
   "outputs": [
    {
     "name": "stdout",
     "output_type": "stream",
     "text": [
      "1.0\n",
      "1.0\n",
      "1.0\n",
      "1.0\n"
     ]
    }
   ],
   "source": [
    "#testing\n",
    "acc_dt_test = accuracy_score(y_test, dt_grid.predict(X_test))\n",
    "pre_dt_test = precision_score(y_test, dt_grid.predict(X_test),average='weighted')\n",
    "rec_dt_test = recall_score(y_test, dt_grid.predict(X_test),average='weighted')\n",
    "f1_dt_test = f1_score(y_test, dt_grid.predict(X_test),average='weighted')\n",
    "print(acc_dt_test)\n",
    "print(pre_dt_test)\n",
    "print(rec_dt_test)\n",
    "print(f1_dt_test)"
   ]
  },
  {
   "cell_type": "markdown",
   "metadata": {},
   "source": [
    "### Multinomial Naive Bayes"
   ]
  },
  {
   "cell_type": "code",
   "execution_count": null,
   "metadata": {},
   "outputs": [],
   "source": [
    "from sklearn.naive_bayes import MultinomialNB\n",
    "\n",
    "pipe= make_pipeline(MultinomialNB())\n",
    "param_grid = {'multinomialnb__alpha':[0.01,0.1,1]}\n",
    "NB = GridSearchCV(pipe,param_grid,cv=5)\n",
    "NB.fit(X_train, y_train)\n",
    "print(\"Best cv score:{:.2f}\".format(NB.best_score_))\n",
    "print(\"Best parameters:\\n{}\".format(NB.best_params_))\n"
   ]
  },
  {
   "cell_type": "code",
   "execution_count": null,
   "metadata": {},
   "outputs": [],
   "source": [
    "#Testing data\n",
    "nb_test_accuracy = accuracy_score(y_test, dt_grid.predict(X_test))\n",
    "nb_test_precision = precision_score(y_test, dt_grid.predict(X_test),average='weighted')\n",
    "nb_test_recall = recall_score(y_test, dt_grid.predict(X_test),average='weighted')\n",
    "nb_test_f1 = f1_score(y_test, dt_grid.predict(X_test),average='weighted')\n",
    "\n",
    "print(\"Accuracy: \",nb_test_accuracy)\n",
    "print(\"Precision: \",nb_test_precision)\n",
    "print(\"Recall: \",nb_test_recall)\n",
    "print(\"F1 Score: \",nb_test_f1)"
   ]
  },
  {
   "cell_type": "markdown",
   "metadata": {},
   "source": [
    "# Testing"
   ]
  },
  {
   "cell_type": "code",
   "execution_count": null,
   "metadata": {},
   "outputs": [],
   "source": [
    "def load_data_from_path(filepath):\n",
    "    df = pd.read_csv(filepath)\n",
    "    return df"
   ]
  },
  {
   "cell_type": "code",
   "execution_count": null,
   "metadata": {},
   "outputs": [],
   "source": [
    "def load_health_data():\n",
    "    input_path = \"measure.csv\"\n",
    "    df = load_data_from_path(input_path)\n",
    "    return df"
   ]
  },
  {
   "cell_type": "code",
   "execution_count": null,
   "metadata": {},
   "outputs": [],
   "source": [
    "def split_train_test_data():\n",
    "    df = load_health_data()\n",
    "    X = df.drop(columns=[\"charges\"])\n",
    "    \n",
    "    y = measure['HealthStatusCode']\n",
    "    X_train, X_test, y_train, y_test = train_test_split(measure, y, test_size=0.3)\n",
    "\n",
    "    save_train_test_data(X_train, y_train, X_test, y_test)\n",
    "    return X_train, y_train, X_test, y_test"
   ]
  },
  {
   "cell_type": "code",
   "execution_count": null,
   "metadata": {},
   "outputs": [],
   "source": [
    "def save_train_test_data(Xtrain: pd.DataFrame, Ytrain: pd.DataFrame, Xtest: pd.DataFrame, Ytest: pd.DataFrame):\n",
    "    Xtrain.to_csv(\"data/model_training_data/training_data.csv\", index=False)\n",
    "    Ytrain.to_csv(\"data/model_training_data/training_data_result.csv\", index=False)\n",
    "    Xtest.to_csv(\"data/model_testing_data/testing_data.csv\", index=False)\n",
    "    Ytest.to_csv(\"data/model_testing_data/testing_data_result.csv\", index=False)\n",
    "    return"
   ]
  },
  {
   "cell_type": "code",
   "execution_count": null,
   "metadata": {},
   "outputs": [],
   "source": [
    "def predict_on_test_data(model, xtest):\n",
    "    y_test = model.predict(xtest)\n",
    "    filename = str(model.__class__.__name__)+\"predicted output.csv\"\n",
    "    prediction = pd.DataFrame(y_test)\n",
    "    pd.DataFrame(y_test).to_csv(\"data/model_testing_data/\"+filename)\n",
    "    return prediction"
   ]
  },
  {
   "cell_type": "code",
   "execution_count": null,
   "metadata": {},
   "outputs": [],
   "source": [
    "import pytest\n",
    "\n",
    "\n",
    "@pytest.mark.parametrize(\"test_input,expected\", [(\"3+5\", 8), (\"2+4\", 6), (\"6*9\", 42)])\n",
    "def test_eval(test_input, expected):\n",
    "    assert eval(test_input) == expected"
   ]
  },
  {
   "cell_type": "code",
   "execution_count": null,
   "metadata": {},
   "outputs": [],
   "source": [
    "test_eval(\"6\",6)"
   ]
  },
  {
   "cell_type": "code",
   "execution_count": null,
   "metadata": {},
   "outputs": [],
   "source": [
    "from sklearn.tree import DecisionTreeClassifier"
   ]
  },
  {
   "cell_type": "code",
   "execution_count": null,
   "metadata": {},
   "outputs": [],
   "source": [
    "def DecisionTreeClassifier(xtrain, ytrain):\n",
    "    DS = DecisionTreeClassifier()\n",
    "    DS.fit(xtrain, ytrain)\n",
    "    return DS"
   ]
  },
  {
   "cell_type": "code",
   "execution_count": null,
   "metadata": {},
   "outputs": [],
   "source": [
    "@pytest.fixture\n",
    "def Decision_Tree_prediction(data_preparation):\n",
    "    xtrain, ytrain, xtest, ytest = data_preparation\n",
    "    ds = DecisionTreeClassifier(xtrain, ytrain)\n",
    "    ypred = predict_on_test_data(ds, xtest)\n",
    "    return xtest, ypred"
   ]
  },
  {
   "cell_type": "code",
   "execution_count": null,
   "metadata": {},
   "outputs": [],
   "source": [
    "import pytest_check as check\n",
    "\n",
    "def test_data_leak(data_preparation):\n",
    "    xtrain, ytrain, xtest, ytest = data_preparation\n",
    "    concat_df = pd.concat([xtrain, xtest])\n",
    "    concat_df.drop_duplicates(inplace=True)\n",
    "    assert concat_df.shape[0] == xtrain.shape[0] + xtest.shape[0]\n",
    "def test_predicted_output_shape(Decision_Tree_prediction):\n",
    "    print(\"Decision_Tree_prediction\")\n",
    "    xtest, ypred = Decision_Tree_prediction\n",
    "    check.equal(ypred.shape, (xtest.shape[0], ))\n",
    "    # assert ypred.shape == (xtest.shape[0], 1)\n",
    "    "
   ]
  },
  {
   "cell_type": "code",
   "execution_count": null,
   "metadata": {},
   "outputs": [],
   "source": [
    "def test_healthy_unhealthy_invariance(return_models):\n",
    "    models = return_models\n",
    "    for model in models:\n",
    "        print(\"Checking for \" + str(model.__class__.__name__))\n",
    "        sample_1 = [39.9,190,95,0]\n",
    "        sample_2 = [19, 0, 27,0]\n",
    "        result_healthy_sample = model.predict(np.array(sample_1).reshape(1, -1))\n",
    "        result_unhealthy_sample = model.predict(np.array(sample_2).reshape(1, -1))\n",
    "        check.equal(result_healthy_sample, result_unhealthy_sample)\n",
    "        "
   ]
  }
 ],
 "metadata": {
  "interpreter": {
   "hash": "8b3c26f9f336904474ae9f7feae876c317e5d5317f60fdf2ffa09dab294ad2b6"
  },
  "kernelspec": {
   "display_name": "Python 3",
   "language": "python",
   "name": "python3"
  },
  "language_info": {
   "codemirror_mode": {
    "name": "ipython",
    "version": 3
   },
   "file_extension": ".py",
   "mimetype": "text/x-python",
   "name": "python",
   "nbconvert_exporter": "python",
   "pygments_lexer": "ipython3",
   "version": "3.8.8"
  }
 },
 "nbformat": 4,
 "nbformat_minor": 2
}
